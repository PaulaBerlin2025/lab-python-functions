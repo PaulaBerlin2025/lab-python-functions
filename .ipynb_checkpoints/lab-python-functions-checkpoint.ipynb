{
 "cells": [
  {
   "cell_type": "markdown",
   "id": "25d7736c-ba17-4aff-b6bb-66eba20fbf4e",
   "metadata": {},
   "source": [
    "# Lab | Functions"
   ]
  },
  {
   "cell_type": "markdown",
   "id": "0c581062-8967-4d93-b06e-62833222f930",
   "metadata": {
    "tags": []
   },
   "source": [
    "## Exercise: Managing Customer Orders with Functions\n",
    "\n",
    "In the previous exercise, you improved the code for managing customer orders by using loops and flow control. Now, let's take it a step further and refactor the code by introducing functions.\n",
    "\n",
    "Follow the steps below to complete the exercise:\n",
    "\n",
    "1. Define a function named `initialize_inventory` that takes `products` as a parameter. Inside the function, implement the code for initializing the inventory dictionary using a loop and user input.\n",
    "\n",
    "2. Define a function named `get_customer_orders` that takes no parameters. Inside the function, implement the code for prompting the user to enter the product names using a loop. The function should return the `customer_orders` set.\n",
    "\n",
    "3. Define a function named `update_inventory` that takes `customer_orders` and `inventory` as parameters. Inside the function, implement the code for updating the inventory dictionary based on the customer orders.\n",
    "\n",
    "4. Define a function named `calculate_order_statistics` that takes `customer_orders` and `products` as parameters. Inside the function, implement the code for calculating the order statistics (total products ordered, and percentage of unique products ordered). The function should return these values.\n",
    "\n",
    "5. Define a function named `print_order_statistics` that takes `order_statistics` as a parameter. Inside the function, implement the code for printing the order statistics.\n",
    "\n",
    "6. Define a function named `print_updated_inventory` that takes `inventory` as a parameter. Inside the function, implement the code for printing the updated inventory.\n",
    "\n",
    "7. Call the functions in the appropriate sequence to execute the program and manage customer orders.\n",
    "\n",
    "Hints for functions:\n",
    "\n",
    "- Consider the input parameters required for each function and their return values.\n",
    "- Utilize function parameters and return values to transfer data between functions.\n",
    "- Test your functions individually to ensure they work correctly.\n",
    "\n",
    "\n"
   ]
  },
  {
   "cell_type": "code",
   "execution_count": null,
   "id": "00636ba0-8b73-42d1-b6a9-89719731f26d",
   "metadata": {},
   "outputs": [],
   "source": [
    "#1\n",
    "products = [\"t-shirt\", \"mug\", \"hat\", \"book\", \"keychain\"]"
   ]
  },
  {
   "cell_type": "code",
   "execution_count": null,
   "id": "8238de25-986f-4cc4-bb3a-89719d1de1e8",
   "metadata": {},
   "outputs": [],
   "source": [
    "def initialize_inventory(products):\n",
    "    inventory = {}\n",
    "    for product in products:\n",
    "        quantity = int(input(f\"Enter the quantity for {product}: \"))\n",
    "        inventory[product] = quantity\n",
    "    return inventory"
   ]
  },
  {
   "cell_type": "code",
   "execution_count": null,
   "id": "6bf33cf5-feb2-418a-b24a-f509b9b13835",
   "metadata": {},
   "outputs": [],
   "source": [
    "#2\n",
    "def get_customer_orders(products):\n",
    "    customer_orders = set()\n",
    " \n",
    "    while True:\n",
    "        product_name = input(f\"Enter a product name the customer wants to order from {products}: \")\n",
    "        \n",
    "        if product_name in products:\n",
    "            customer_orders.add(product_name)\n",
    "        else:\n",
    "            print(f\"Sorry, {product_name} is not available. Please choose from {products}.\")\n",
    "\n",
    "        return customer_orders"
   ]
  },
  {
   "cell_type": "code",
   "execution_count": null,
   "id": "817fee3d-c47b-4684-bf7a-fb3b4874dbc3",
   "metadata": {},
   "outputs": [],
   "source": [
    "#3\n",
    "def update_inventory(customer_orders, inventory):\n",
    "    for ordered_product in customer_orders:\n",
    "        if ordered_product in inventory:\n",
    "            if inventory[ordered_product] > 0:\n",
    "                inventory[ordered_product] -= 1  # Subtract one from inventory for each ordered product\n",
    "        else:\n",
    "            print(f\"Error: {ordered_product} is not in the inventory.\")"
   ]
  },
  {
   "cell_type": "code",
   "execution_count": null,
   "id": "6590ba1e-6df7-498b-9984-6b12b5e9f2e0",
   "metadata": {},
   "outputs": [],
   "source": [
    "#4\n",
    "def calculate_order_statistics(customer_orders, products):\n",
    "    total_products_ordered = len(customer_orders)  # Total products ordered (unique)\n",
    "    unique_products_ordered = len(set(customer_orders))  # Unique products ordered\n",
    "\n",
    "    percentage_unique = (unique_products_ordered / len(products)) * 100 if len(products) > 0 else 0\n",
    "\n",
    "    return total_products_ordered, percentage_unique"
   ]
  },
  {
   "cell_type": "code",
   "execution_count": null,
   "id": "9ffd9395-47a8-42c0-8ac6-6e2434c2f2b5",
   "metadata": {},
   "outputs": [],
   "source": [
    "#5\n",
    "def print_order_statistics(order_statistics):\n",
    "    total_products_ordered, percentage_unique = order_statistics\n",
    "    print(f\"Total products ordered: {total_products_ordered}\")\n",
    "    print(f\"Percentage of unique products ordered: {percentage_unique:.2f}%\")"
   ]
  },
  {
   "cell_type": "code",
   "execution_count": null,
   "id": "ba9c7be5-d8f1-46f5-9a9b-061c9716c239",
   "metadata": {},
   "outputs": [],
   "source": [
    "#6  \n",
    "def print_updated_inventory(inventory):\n",
    "    print(\"Updated Inventory:\")\n",
    "    for product, quantity in inventory.items():\n",
    "        print(f\"{product}: {quantity}\")"
   ]
  },
  {
   "cell_type": "code",
   "execution_count": null,
   "id": "6b8ce5dc-e2d2-46e1-9708-7c44ef9754f8",
   "metadata": {},
   "outputs": [],
   "source": [
    "7#"
   ]
  },
  {
   "cell_type": "code",
   "execution_count": null,
   "id": "652e738e-e414-47cc-96e4-b3a8938564b7",
   "metadata": {},
   "outputs": [],
   "source": []
  }
 ],
 "metadata": {
  "kernelspec": {
   "display_name": "Python [conda env:base] *",
   "language": "python",
   "name": "conda-base-py"
  },
  "language_info": {
   "codemirror_mode": {
    "name": "ipython",
    "version": 3
   },
   "file_extension": ".py",
   "mimetype": "text/x-python",
   "name": "python",
   "nbconvert_exporter": "python",
   "pygments_lexer": "ipython3",
   "version": "3.12.7"
  }
 },
 "nbformat": 4,
 "nbformat_minor": 5
}
